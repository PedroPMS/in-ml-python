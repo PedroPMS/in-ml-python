{
 "cells": [
  {
   "cell_type": "code",
   "execution_count": 10,
   "id": "f4d40678",
   "metadata": {},
   "outputs": [
    {
     "name": "stdout",
     "output_type": "stream",
     "text": [
      "<class 'pandas.core.frame.DataFrame'>\n",
      "RangeIndex: 365 entries, 0 to 364\n",
      "Data columns (total 35 columns):\n",
      " #   Column                                     Non-Null Count  Dtype \n",
      "---  ------                                     --------------  ----- \n",
      " 0   erythema                                   365 non-null    int64 \n",
      " 1    scaling                                   365 non-null    int64 \n",
      " 2    definite borders                          365 non-null    int64 \n",
      " 3    itching                                   365 non-null    int64 \n",
      " 4    koebner phenomenon                        365 non-null    int64 \n",
      " 5    polygonal papules                         365 non-null    int64 \n",
      " 6    follicular papules                        365 non-null    int64 \n",
      " 7    oral mucosal involvement                  365 non-null    int64 \n",
      " 8    knee and elbow involvement                365 non-null    int64 \n",
      " 9    scalp involvement                         365 non-null    int64 \n",
      " 10   family history                            365 non-null    int64 \n",
      " 11   melanin incontinence                      365 non-null    int64 \n",
      " 12   eosinophils in the infiltrate             365 non-null    int64 \n",
      " 13   PNL infiltrate                            365 non-null    int64 \n",
      " 14   fibrosis of the papillary dermis          365 non-null    int64 \n",
      " 15   exocytosis                                365 non-null    int64 \n",
      " 16  acanthosis                                 365 non-null    int64 \n",
      " 17   hyperkeratosis                            365 non-null    int64 \n",
      " 18   parakeratosis                             365 non-null    int64 \n",
      " 19   clubbing of the rete ridges               365 non-null    int64 \n",
      " 20   elongation of the rete ridges             365 non-null    int64 \n",
      " 21   thinning of the suprapapillary epidermis  365 non-null    int64 \n",
      " 22   spongiform pustule                        365 non-null    int64 \n",
      " 23   munro microabcess                         365 non-null    int64 \n",
      " 24   focal hypergranulosis                     365 non-null    int64 \n",
      " 25   disappearance of the granular layer       365 non-null    int64 \n",
      " 26   vacuolisation and damage of basal layer   365 non-null    int64 \n",
      " 27   spongiosis                                365 non-null    int64 \n",
      " 28   saw-tooth appearance of retes             365 non-null    int64 \n",
      " 29   follicular horn plug                      365 non-null    int64 \n",
      " 30   perifollicular parakeratosis              365 non-null    int64 \n",
      " 31   inflammatory monoluclear inflitrate       365 non-null    int64 \n",
      " 32   band-like infiltrate                      365 non-null    int64 \n",
      " 33   age                                       365 non-null    object\n",
      " 34   result                                    365 non-null    int64 \n",
      "dtypes: int64(34), object(1)\n",
      "memory usage: 99.9+ KB\n"
     ]
    }
   ],
   "source": [
    "from sklearn.tree import DecisionTreeClassifier\n",
    "import csv\n",
    "import pandas as pd\n",
    "import tratarDados\n",
    "\n",
    "tratarDados.tratarDados()\n",
    "\n",
    "dados = pd.read_csv('./dermatology.data')\n",
    "\n",
    "dados.head()\n",
    "dados.info()"
   ]
  },
  {
   "cell_type": "code",
   "execution_count": null,
   "id": "cb80ebd7",
   "metadata": {},
   "outputs": [],
   "source": []
  }
 ],
 "metadata": {
  "kernelspec": {
   "display_name": "Python 3 (ipykernel)",
   "language": "python",
   "name": "python3"
  },
  "language_info": {
   "codemirror_mode": {
    "name": "ipython",
    "version": 3
   },
   "file_extension": ".py",
   "mimetype": "text/x-python",
   "name": "python",
   "nbconvert_exporter": "python",
   "pygments_lexer": "ipython3",
   "version": "3.8.10"
  }
 },
 "nbformat": 4,
 "nbformat_minor": 5
}
