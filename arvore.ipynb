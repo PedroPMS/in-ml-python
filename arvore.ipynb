{
 "cells": [
  {
   "cell_type": "code",
   "execution_count": 2,
   "source": [
    "from sklearn.tree import DecisionTreeClassifier, plot_tree\n",
    "from sklearn.model_selection import train_test_split\n",
    "from sklearn import metrics\n",
    "import pandas as pd\n",
    "import tratarDados\n",
    "\n",
    "tratarDados.tratarDados()\n",
    "\n",
    "dados = pd.read_csv('./dermatology.data')\n",
    "dados_treino, dados_teste, resultados_treino, resultados_teste = train_test_split(dados.drop('result',axis=1),dados['result'],test_size=0.3)\n",
    "\n",
    "arvore = DecisionTreeClassifier()\n",
    "arvore = arvore.fit(dados_treino, resultados_treino)\n",
    "\n",
    "resultadoPredicao = arvore.predict(dados_teste)\n",
    "print(metrics.confusion_matrix(resultados_teste, resultadoPredicao))\n",
    "print(metrics.classification_report(resultados_teste, resultadoPredicao))\n",
    "plot_tree(arvore) \n"
   ],
   "outputs": [
    {
     "output_type": "stream",
     "name": "stdout",
     "text": [
      "[[38  1  0  0  0  0]\n",
      " [ 0 17  0  1  1  1]\n",
      " [ 0  0 20  0  0  0]\n",
      " [ 0  1  0 10  0  0]\n",
      " [ 0  0  0  0 16  0]\n",
      " [ 0  0  0  0  0  4]]\n",
      "              precision    recall  f1-score   support\n",
      "\n",
      "           1       1.00      0.97      0.99        39\n",
      "           2       0.89      0.85      0.87        20\n",
      "           3       1.00      1.00      1.00        20\n",
      "           4       0.91      0.91      0.91        11\n",
      "           5       0.94      1.00      0.97        16\n",
      "           6       0.80      1.00      0.89         4\n",
      "\n",
      "    accuracy                           0.95       110\n",
      "   macro avg       0.92      0.96      0.94       110\n",
      "weighted avg       0.96      0.95      0.95       110\n",
      "\n"
     ]
    },
    {
     "output_type": "execute_result",
     "data": {
      "text/plain": [
       "[Text(274.6112359550562, 208.38, 'X[21] <= 0.5\\ngini = 0.806\\nsamples = 255\\nvalue = [73, 40, 52, 38, 36, 16]'),\n",
       " Text(244.5168539325843, 190.26, 'X[26] <= 0.5\\ngini = 0.786\\nsamples = 184\\nvalue = [3, 40, 52, 38, 35, 16]'),\n",
       " Text(229.46966292134832, 172.14, 'X[14] <= 0.5\\ngini = 0.744\\nsamples = 133\\nvalue = [3, 40, 1, 38, 35, 16]'),\n",
       " Text(188.08988764044946, 154.01999999999998, 'X[4] <= 0.5\\ngini = 0.648\\nsamples = 97\\nvalue = [3, 40, 0, 38, 0, 16]'),\n",
       " Text(150.47191011235955, 135.89999999999998, 'X[30] <= 0.5\\ngini = 0.566\\nsamples = 65\\nvalue = [3, 39, 0, 7, 0, 16]'),\n",
       " Text(135.4247191011236, 117.77999999999999, 'X[25] <= 0.5\\ngini = 0.342\\nsamples = 49\\nvalue = [3, 39, 0, 7, 0, 0]'),\n",
       " Text(105.3303370786517, 99.66, 'X[17] <= 1.5\\ngini = 0.133\\nsamples = 42\\nvalue = [0, 39, 0, 3, 0, 0]'),\n",
       " Text(90.28314606741574, 81.53999999999999, 'X[33] <= 58.5\\ngini = 0.093\\nsamples = 41\\nvalue = [0, 39, 0, 2, 0, 0]'),\n",
       " Text(60.188764044943824, 63.41999999999999, 'X[3] <= 0.5\\ngini = 0.05\\nsamples = 39\\nvalue = [0, 38, 0, 1, 0, 0]'),\n",
       " Text(45.14157303370787, 45.29999999999998, 'X[33] <= 31.0\\ngini = 0.245\\nsamples = 7\\nvalue = [0, 6, 0, 1, 0, 0]'),\n",
       " Text(30.094382022471912, 27.17999999999998, 'X[2] <= 1.5\\ngini = 0.5\\nsamples = 2\\nvalue = [0, 1, 0, 1, 0, 0]'),\n",
       " Text(15.047191011235956, 9.059999999999974, 'gini = 0.0\\nsamples = 1\\nvalue = [0, 0, 0, 1, 0, 0]'),\n",
       " Text(45.14157303370787, 9.059999999999974, 'gini = 0.0\\nsamples = 1\\nvalue = [0, 1, 0, 0, 0, 0]'),\n",
       " Text(60.188764044943824, 27.17999999999998, 'gini = 0.0\\nsamples = 5\\nvalue = [0, 5, 0, 0, 0, 0]'),\n",
       " Text(75.23595505617978, 45.29999999999998, 'gini = 0.0\\nsamples = 32\\nvalue = [0, 32, 0, 0, 0, 0]'),\n",
       " Text(120.37752808988765, 63.41999999999999, 'X[1] <= 1.5\\ngini = 0.5\\nsamples = 2\\nvalue = [0, 1, 0, 1, 0, 0]'),\n",
       " Text(105.3303370786517, 45.29999999999998, 'gini = 0.0\\nsamples = 1\\nvalue = [0, 0, 0, 1, 0, 0]'),\n",
       " Text(135.4247191011236, 45.29999999999998, 'gini = 0.0\\nsamples = 1\\nvalue = [0, 1, 0, 0, 0, 0]'),\n",
       " Text(120.37752808988765, 81.53999999999999, 'gini = 0.0\\nsamples = 1\\nvalue = [0, 0, 0, 1, 0, 0]'),\n",
       " Text(165.5191011235955, 99.66, 'X[20] <= 1.0\\ngini = 0.49\\nsamples = 7\\nvalue = [3, 0, 0, 4, 0, 0]'),\n",
       " Text(150.47191011235955, 81.53999999999999, 'gini = 0.0\\nsamples = 4\\nvalue = [0, 0, 0, 4, 0, 0]'),\n",
       " Text(180.56629213483149, 81.53999999999999, 'gini = 0.0\\nsamples = 3\\nvalue = [3, 0, 0, 0, 0, 0]'),\n",
       " Text(165.5191011235955, 117.77999999999999, 'gini = 0.0\\nsamples = 16\\nvalue = [0, 0, 0, 0, 0, 16]'),\n",
       " Text(225.70786516853934, 135.89999999999998, 'X[33] <= 21.0\\ngini = 0.061\\nsamples = 32\\nvalue = [0, 1, 0, 31, 0, 0]'),\n",
       " Text(210.6606741573034, 117.77999999999999, 'X[1] <= 1.5\\ngini = 0.375\\nsamples = 4\\nvalue = [0, 1, 0, 3, 0, 0]'),\n",
       " Text(195.61348314606744, 99.66, 'gini = 0.0\\nsamples = 3\\nvalue = [0, 0, 0, 3, 0, 0]'),\n",
       " Text(225.70786516853934, 99.66, 'gini = 0.0\\nsamples = 1\\nvalue = [0, 1, 0, 0, 0, 0]'),\n",
       " Text(240.7550561797753, 117.77999999999999, 'gini = 0.0\\nsamples = 28\\nvalue = [0, 0, 0, 28, 0, 0]'),\n",
       " Text(270.8494382022472, 154.01999999999998, 'X[25] <= 1.0\\ngini = 0.054\\nsamples = 36\\nvalue = [0, 0, 1, 0, 35, 0]'),\n",
       " Text(255.80224719101125, 135.89999999999998, 'gini = 0.0\\nsamples = 35\\nvalue = [0, 0, 0, 0, 35, 0]'),\n",
       " Text(285.89662921348315, 135.89999999999998, 'gini = 0.0\\nsamples = 1\\nvalue = [0, 0, 1, 0, 0, 0]'),\n",
       " Text(259.56404494382025, 172.14, 'gini = 0.0\\nsamples = 51\\nvalue = [0, 0, 51, 0, 0, 0]'),\n",
       " Text(304.7056179775281, 190.26, 'X[27] <= 0.5\\ngini = 0.028\\nsamples = 71\\nvalue = [70, 0, 0, 0, 1, 0]'),\n",
       " Text(289.65842696629215, 172.14, 'gini = 0.0\\nsamples = 70\\nvalue = [70, 0, 0, 0, 0, 0]'),\n",
       " Text(319.75280898876406, 172.14, 'gini = 0.0\\nsamples = 1\\nvalue = [0, 0, 0, 0, 1, 0]')]"
      ]
     },
     "metadata": {},
     "execution_count": 2
    },
    {
     "output_type": "display_data",
     "data": {
      "text/plain": [
       "<Figure size 432x288 with 1 Axes>"
      ],
      "image/png": "[encoded data removed]"
     },
     "metadata": {
      "needs_background": "light"
     }
    }
   ],
   "metadata": {}
  }
 ],
 "metadata": {
  "kernelspec": {
   "name": "python3",
   "display_name": "Python 3.8.10 64-bit"
  },
  "language_info": {
   "codemirror_mode": {
    "name": "ipython",
    "version": 3
   },
   "file_extension": ".py",
   "mimetype": "text/x-python",
   "name": "python",
   "nbconvert_exporter": "python",
   "pygments_lexer": "ipython3",
   "version": "3.8.10"
  },
  "interpreter": {
   "hash": "916dbcbb3f70747c44a77c7bcd40155683ae19c65e1c03b4aa3499c5328201f1"
  }
 },
 "nbformat": 4,
 "nbformat_minor": 5
}