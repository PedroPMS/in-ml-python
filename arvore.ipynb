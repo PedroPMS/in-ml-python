{
 "cells": [
  {
   "cell_type": "code",
   "execution_count": 1,
   "source": [
    "from sklearn.tree import DecisionTreeClassifier, plot_tree\n",
    "from sklearn.model_selection import train_test_split\n",
    "from sklearn import metrics\n",
    "import pandas as pd\n",
    "import tratarDados\n",
    "\n",
    "tratarDados.tratarDados()\n",
    "\n",
    "dados = pd.read_csv('./dermatology.data')\n",
    "dados_treino, dados_teste, resultados_treino, resultados_teste = train_test_split(dados.drop('result',axis=1),dados['result'],test_size=0.3)\n",
    "\n",
    "arvore = DecisionTreeClassifier()\n",
    "arvore = arvore.fit(dados_treino, resultados_treino)\n",
    "\n",
    "resultadoPredicao = arvore.predict(dados_teste)\n",
    "print(metrics.confusion_matrix(resultados_teste, resultadoPredicao))\n",
    "print(metrics.classification_report(resultados_teste, resultadoPredicao))\n",
    "plot_tree(arvore) \n"
   ],
   "outputs": [
    {
     "output_type": "stream",
     "name": "stdout",
     "text": [
      "[[33  2  0  1  0  0]\n",
      " [ 0 18  0  1  0  1]\n",
      " [ 0  0 20  1  0  0]\n",
      " [ 0  0  0 13  0  0]\n",
      " [ 0  0  0  0 17  0]\n",
      " [ 0  0  0  0  0  3]]\n",
      "              precision    recall  f1-score   support\n",
      "\n",
      "           1       1.00      0.92      0.96        36\n",
      "           2       0.90      0.90      0.90        20\n",
      "           3       1.00      0.95      0.98        21\n",
      "           4       0.81      1.00      0.90        13\n",
      "           5       1.00      1.00      1.00        17\n",
      "           6       0.75      1.00      0.86         3\n",
      "\n",
      "    accuracy                           0.95       110\n",
      "   macro avg       0.91      0.96      0.93       110\n",
      "weighted avg       0.95      0.95      0.95       110\n",
      "\n"
     ]
    },
    {
     "output_type": "execute_result",
     "data": {
      "text/plain": [
       "[Text(245.52, 208.38, 'X[19] <= 0.5\\ngini = 0.804\\nsamples = 254\\nvalue = [75, 40, 51, 36, 35, 17]'),\n",
       " Text(200.88, 190.26, 'X[5] <= 0.5\\ngini = 0.778\\nsamples = 176\\nvalue = [0, 40, 51, 36, 34, 15]'),\n",
       " Text(178.56, 172.14, 'X[14] <= 0.5\\ngini = 0.731\\nsamples = 126\\nvalue = [0, 40, 1, 36, 34, 15]'),\n",
       " Text(156.24, 154.01999999999998, 'X[4] <= 0.5\\ngini = 0.631\\nsamples = 92\\nvalue = [0, 40, 1, 36, 0, 15]'),\n",
       " Text(111.6, 135.89999999999998, 'X[6] <= 1.5\\ngini = 0.491\\nsamples = 59\\nvalue = [0, 39, 0, 5, 0, 15]'),\n",
       " Text(89.28, 117.77999999999999, 'X[25] <= 0.5\\ngini = 0.236\\nsamples = 45\\nvalue = [0, 39, 0, 5, 0, 1]'),\n",
       " Text(66.96000000000001, 99.66, 'X[33] <= 9.5\\ngini = 0.135\\nsamples = 42\\nvalue = [0, 39, 0, 2, 0, 1]'),\n",
       " Text(44.64, 81.53999999999999, 'gini = 0.0\\nsamples = 1\\nvalue = [0, 0, 0, 0, 0, 1]'),\n",
       " Text(89.28, 81.53999999999999, 'X[33] <= 58.5\\ngini = 0.093\\nsamples = 41\\nvalue = [0, 39, 0, 2, 0, 0]'),\n",
       " Text(44.64, 63.41999999999999, 'X[17] <= 0.5\\ngini = 0.05\\nsamples = 39\\nvalue = [0, 38, 0, 1, 0, 0]'),\n",
       " Text(22.32, 45.29999999999998, 'gini = 0.0\\nsamples = 32\\nvalue = [0, 32, 0, 0, 0, 0]'),\n",
       " Text(66.96000000000001, 45.29999999999998, 'X[13] <= 0.5\\ngini = 0.245\\nsamples = 7\\nvalue = [0, 6, 0, 1, 0, 0]'),\n",
       " Text(44.64, 27.17999999999998, 'X[18] <= 0.5\\ngini = 0.5\\nsamples = 2\\nvalue = [0, 1, 0, 1, 0, 0]'),\n",
       " Text(22.32, 9.059999999999974, 'gini = 0.0\\nsamples = 1\\nvalue = [0, 1, 0, 0, 0, 0]'),\n",
       " Text(66.96000000000001, 9.059999999999974, 'gini = 0.0\\nsamples = 1\\nvalue = [0, 0, 0, 1, 0, 0]'),\n",
       " Text(89.28, 27.17999999999998, 'gini = 0.0\\nsamples = 5\\nvalue = [0, 5, 0, 0, 0, 0]'),\n",
       " Text(133.92000000000002, 63.41999999999999, 'X[15] <= 1.5\\ngini = 0.5\\nsamples = 2\\nvalue = [0, 1, 0, 1, 0, 0]'),\n",
       " Text(111.6, 45.29999999999998, 'gini = 0.0\\nsamples = 1\\nvalue = [0, 0, 0, 1, 0, 0]'),\n",
       " Text(156.24, 45.29999999999998, 'gini = 0.0\\nsamples = 1\\nvalue = [0, 1, 0, 0, 0, 0]'),\n",
       " Text(111.6, 99.66, 'gini = 0.0\\nsamples = 3\\nvalue = [0, 0, 0, 3, 0, 0]'),\n",
       " Text(133.92000000000002, 117.77999999999999, 'gini = 0.0\\nsamples = 14\\nvalue = [0, 0, 0, 0, 0, 14]'),\n",
       " Text(200.88, 135.89999999999998, 'X[26] <= 1.5\\ngini = 0.116\\nsamples = 33\\nvalue = [0, 1, 1, 31, 0, 0]'),\n",
       " Text(178.56, 117.77999999999999, 'X[13] <= 0.5\\ngini = 0.061\\nsamples = 32\\nvalue = [0, 1, 0, 31, 0, 0]'),\n",
       " Text(156.24, 99.66, 'gini = 0.0\\nsamples = 28\\nvalue = [0, 0, 0, 28, 0, 0]'),\n",
       " Text(200.88, 99.66, 'X[3] <= 1.0\\ngini = 0.375\\nsamples = 4\\nvalue = [0, 1, 0, 3, 0, 0]'),\n",
       " Text(178.56, 81.53999999999999, 'gini = 0.0\\nsamples = 3\\nvalue = [0, 0, 0, 3, 0, 0]'),\n",
       " Text(223.2, 81.53999999999999, 'gini = 0.0\\nsamples = 1\\nvalue = [0, 1, 0, 0, 0, 0]'),\n",
       " Text(223.2, 117.77999999999999, 'gini = 0.0\\nsamples = 1\\nvalue = [0, 0, 1, 0, 0, 0]'),\n",
       " Text(200.88, 154.01999999999998, 'gini = 0.0\\nsamples = 34\\nvalue = [0, 0, 0, 0, 34, 0]'),\n",
       " Text(223.2, 172.14, 'gini = 0.0\\nsamples = 50\\nvalue = [0, 0, 50, 0, 0, 0]'),\n",
       " Text(290.16, 190.26, 'X[29] <= 0.5\\ngini = 0.075\\nsamples = 78\\nvalue = [75, 0, 0, 0, 1, 2]'),\n",
       " Text(267.84000000000003, 172.14, 'X[14] <= 1.5\\ngini = 0.026\\nsamples = 76\\nvalue = [75, 0, 0, 0, 1, 0]'),\n",
       " Text(245.52, 154.01999999999998, 'gini = 0.0\\nsamples = 75\\nvalue = [75, 0, 0, 0, 0, 0]'),\n",
       " Text(290.16, 154.01999999999998, 'gini = 0.0\\nsamples = 1\\nvalue = [0, 0, 0, 0, 1, 0]'),\n",
       " Text(312.48, 172.14, 'gini = 0.0\\nsamples = 2\\nvalue = [0, 0, 0, 0, 0, 2]')]"
      ]
     },
     "metadata": {},
     "execution_count": 1
    },
    {
     "output_type": "display_data",
     "data": {
      "text/plain": [
       "<Figure size 432x288 with 1 Axes>"
      ],
      "image/png": "[encoded data removed]"
     },
     "metadata": {
      "needs_background": "light"
     }
    }
   ],
   "metadata": {}
  },
  {
   "cell_type": "code",
   "execution_count": null,
   "source": [],
   "outputs": [],
   "metadata": {}
  }
 ],
 "metadata": {
  "interpreter": {
   "hash": "916dbcbb3f70747c44a77c7bcd40155683ae19c65e1c03b4aa3499c5328201f1"
  },
  "kernelspec": {
   "name": "python3",
   "display_name": "Python 3.8.10 64-bit"
  },
  "language_info": {
   "codemirror_mode": {
    "name": "ipython",
    "version": 3
   },
   "file_extension": ".py",
   "mimetype": "text/x-python",
   "name": "python",
   "nbconvert_exporter": "python",
   "pygments_lexer": "ipython3",
   "version": "3.8.10"
  }
 },
 "nbformat": 4,
 "nbformat_minor": 5
}